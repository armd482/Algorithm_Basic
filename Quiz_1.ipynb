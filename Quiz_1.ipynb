{
 "cells": [
  {
   "cell_type": "code",
   "execution_count": 31,
   "id": "4cc46bd9-b757-4851-9bc3-84cb4a4ea2f2",
   "metadata": {},
   "outputs": [
    {
     "name": "stdout",
     "output_type": "stream",
     "text": [
      "[1, 5, 7, 15, 29]\n",
      "[1, 5, 7, 15, 29]\n"
     ]
    }
   ],
   "source": [
    "#Q1, 리스트 홀수만 출력\n",
    "#주어진 리스트\n",
    "num_list = [1,5,7,15,16,22,28,29]\n",
    "\n",
    "#for문 활용\n",
    "def get_odd_num_f(num_list):\n",
    "    odd_list=[] #홀수 값을 저장할 리스트 선언\n",
    "    for i in num_list: #주어진 리스트에 대해서\n",
    "        if(i%2==1): #해당 값이 홀수인 경우\n",
    "            odd_list.append(i) #그 값을 선언한 리스트에 저장\n",
    "    return odd_list #홀수 값이 저장된 리스트 리턴\n",
    "\n",
    "\n",
    "# while문 활용\n",
    "def get_odd_num_w(num_list):\n",
    "    k=len(num_list) #해당 리스트의 크기 저장\n",
    "    i=0 # while문을 위한 변수 저장(for문의 i와 비슷한 역할)\n",
    "    while(i != k): #i값이 k값과 같아지기 전까지 계속 증가함\n",
    "        if(num_list[i] % 2 == 0): #리스트의 값이 짝수인 경우\n",
    "            num_list.pop(i) #해당 값을 리스트에서 제거\n",
    "            i-=1 #진행되는 i값을 제거(해당 값이 없어지므로 그 뒤에 있는 변수들의 인덱스가 1씩 당겨짐)\n",
    "            k-=1 #인덱스가 하나 감소했기 때문에 전체 리스트의 크기도 1 감소\n",
    "        else:\n",
    "            i+=1 #홀수인 경우 i값을 증가시켜, while문이 끝날 수 있도록 조정(해당 리스트를 끝까지 비교할 수 있도록 1씩 증가)\n",
    "            \n",
    "    return num_list #수정된 리스트 리턴\n",
    "\n",
    "print(get_odd_num_f(num_list))\n",
    "print(get_odd_num_w(num_list))"
   ]
  },
  {
   "cell_type": "code",
   "execution_count": 32,
   "id": "f169292f-fd2d-4c45-8cac-a51954dadcf8",
   "metadata": {},
   "outputs": [
    {
     "name": "stdout",
     "output_type": "stream",
     "text": [
      "Where there is a will there is a way \n"
     ]
    }
   ],
   "source": [
    "#Q2, 문자열 뒤집기(단어 단위)\n",
    "#주어딘 문자열\n",
    "sentence = \"way a is there will a is there Where\"\n",
    "\n",
    "def reverse_sentence(sentence):\n",
    "    word = sentence.split() #문자열을 단어 단위로 끊어서 저장\n",
    "    new_sentence=\"\" #새로 출력할 문자열 선언\n",
    "    for i in word[::-1]: #저장한 단어들을 역순으로 불러옴\n",
    "        new_sentence+=i+\" \" #역순으로 불러온 단어들을 새로 선언한 문자열에 연장\n",
    "    return new_sentence #새로 만든 문자열 리턴\n",
    "\n",
    "print(reverse_sentence(sentence))"
   ]
  },
  {
   "cell_type": "code",
   "execution_count": 33,
   "id": "7eb6d3d0-d60a-40f8-a88e-eeaba5e8399e",
   "metadata": {},
   "outputs": [
    {
     "name": "stdout",
     "output_type": "stream",
     "text": [
      "1  번, 평균 :  100.0\n",
      "2  번, 평균 :  92.5\n",
      "3  번, 평균 :  57.5\n",
      "4  번, 평균 :  77.5\n",
      "5  번, 평균 :  70.0\n"
     ]
    }
   ],
   "source": [
    "#Q3, 평균 출력\n",
    "# 주어진 데이터\n",
    "score = [(100,100),(95,90),(55,60),(75,80),(70,70)]\n",
    "\n",
    "def get_avg(score):\n",
    "    for i in range(len(score)): #해당 리스트의 크기만큼 반복(튜플의 개수만큼)\n",
    "        print((i+1), \" 번, 평균 : \", (score[i][0]+score[i][1])/2) # 리스트 안의 튜플 값을 이중으로 불러올 수 있음\n",
    "        \n",
    "get_avg(score)"
   ]
  },
  {
   "cell_type": "code",
   "execution_count": 50,
   "id": "843f7a97-4d60-484f-8303-2c82b8a02b27",
   "metadata": {},
   "outputs": [
    {
     "name": "stdout",
     "output_type": "stream",
     "text": [
      "{'사과': 35, '배': 30, '감': 35, '포도': 10, '귤': 25}\n",
      "{'사과': 35, '배': 30, '감': 35, '포도': 10, '귤': 25}\n"
     ]
    }
   ],
   "source": [
    "#Q4, 딕셔너리 합치기\n",
    "from collections import Counter #Counter모듈\n",
    "import copy #딕셔너리 복사를 위한 모듈\n",
    "\n",
    "#주어진 데이터\n",
    "dict_first = {'사과': 30, '배': 15, '감': 10, '포도': 10}\n",
    "dict_second = {'사과': 5, '감': 25, '배': 15, '귤': 25}\n",
    "\n",
    "def merge_dict_f(dict_first, dict_second): #for문을 활용한 방법\n",
    "    new_dic = dict_first.copy() #copy모듈을 활용해서 첫번째 딕셔너리 복사한 새로운 딕셔너리 지정\n",
    "    for i in dict_second: #두번째 딕셔너리에서\n",
    "        if i not in new_dic: #해당 키가 새로 지정한 딕셔너리에 없는 경우\n",
    "            new_dic[i] = dict_second[i] #해당 키값과 값을 새로 지정한 딕셔너리에 넣음\n",
    "        else: #해당 키가 이미 있는 경우\n",
    "            new_dic[i] += dict_second[i] #해당 키에 있는 값에서 두번째 딕셔너리의 값을 더해서 저장\n",
    "            \n",
    "    return new_dic\n",
    "\n",
    "def merge_dict_C(dict_first, dict_second): #Counter 모듈 활용한 방법\n",
    "    new_dic = Counter(dict_first) + Counter(dict_second) #첫번째 딕셔너리와 두번째 딕셔너리를 합친 새로운 딕셔너리 지정(같은 키를 갖은 경우 값을 더해서 저장)\n",
    "    return dict(new_dic)\n",
    "\n",
    "print(merge_dict_f(dict_first, dict_second))\n",
    "print(merge_dict_C(dict_first, dict_second))"
   ]
  },
  {
   "cell_type": "code",
   "execution_count": 81,
   "id": "c10411bc-e612-493e-b68c-35a3214aa88c",
   "metadata": {},
   "outputs": [
    {
     "name": "stdout",
     "output_type": "stream",
     "text": [
      "['cat', 'dog', 'cow']\n"
     ]
    }
   ],
   "source": [
    "#Q5, 문자열 숫자 제거\n",
    "#주어진 데이터\n",
    "inputs = \"cat32dog16cow5\"\n",
    "\n",
    "def find_string(inputs):\n",
    "    new_string = [] #단어들을 저장할 리스트 선언\n",
    "    k = 0 #숫자가 있는 경우, 해당 단어의 첫 번째 글자의 인덱스 순서 저장\n",
    "    if(inputs[0].isdigit()): flag = False #for문에서 단어가 시작한 경우 True로, 아닌 경우(숫자일 경우) False로 지정\n",
    "    else: flag = True\n",
    "    for i in range(len(inputs)): #inputs의 크기만큼 반복문 실행\n",
    "        if(inputs[i].isdigit()): #해당 글자가 숫자인 경우\n",
    "            if(flag == True): #앞에 글자까지 문자였을 경우(단어였을 경우) \n",
    "                new_string.append(str(inputs[k:i])) #k번째부터 해당 숫자의 이전까지의 단어를 선언한 리스트에 저장\n",
    "                flag = False #숫자이므로, flag를 False로 변경\n",
    "            k = i+1 #i 숫자이므로, 다음번째 순서로 k값 변경\n",
    "        else: #문자인 경우(단어가 아직 다 안 끝나거나, 새로 시작하는 단어인 경우)\n",
    "            flag = True # flag값을 True 값으로 유지하거나, False에서 True값으로 변경\n",
    "            \n",
    "    return new_string #선언한 리스트 리턴\n",
    "\n",
    "print(find_string(inputs))"
   ]
  },
  {
   "cell_type": "code",
   "execution_count": null,
   "id": "28d174c9-9574-4a5e-978c-50c716356323",
   "metadata": {},
   "outputs": [],
   "source": []
  }
 ],
 "metadata": {
  "jupytext": {
   "formats": "ipynb,auto:light"
  },
  "kernelspec": {
   "display_name": "Python 3 (ipykernel)",
   "language": "python",
   "name": "python3"
  },
  "language_info": {
   "codemirror_mode": {
    "name": "ipython",
    "version": 3
   },
   "file_extension": ".py",
   "mimetype": "text/x-python",
   "name": "python",
   "nbconvert_exporter": "python",
   "pygments_lexer": "ipython3",
   "version": "3.9.7"
  }
 },
 "nbformat": 4,
 "nbformat_minor": 5
}
